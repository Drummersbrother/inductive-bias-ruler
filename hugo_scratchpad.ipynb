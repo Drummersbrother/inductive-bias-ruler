{
 "cells": [
  {
   "cell_type": "code",
   "execution_count": null,
   "metadata": {
    "scrolled": false
   },
   "outputs": [],
   "source": [
    "from src import main\n",
    "ms = main.do_train()\n",
    "\n",
    "import torch\n",
    "from src import MODELS\n",
    "runs_inx = 1\n",
    "while (MODELS / f\"runs_{runs_inx}.pth\").is_file():\n",
    "    runs_inx += 1\n",
    "runs_savename = MODELS / f\"runs_{runs_inx}.pth\"\n",
    "torch.save([x.models for x in ms], runs_savename)"
   ]
  },
  {
   "cell_type": "code",
   "execution_count": 7,
   "metadata": {},
   "outputs": [],
   "source": [
    "from src import datasets\n",
    "import torch\n",
    "from collections import Counter\n",
    "import matplotlib as mpl\n",
    "from matplotlib import pyplot as plt\n",
    "mpl.rcParams[\"figure.dpi\"] = 250\n",
    "dm = datasets.MNISTDataModule()\n",
    "ds = dm.get_test_dataset()\n",
    "with torch.no_grad():\n",
    "    signature_dists = None\n",
    "    n_samples = 3\n",
    "    while signature_dists is None or any(len(x) == 1 for x in signature_dists):\n",
    "        signature_dists = []\n",
    "        n_samples += 1\n",
    "        sampling_inxs = list(range(n_samples))\n",
    "        batch = torch.stack([ds[i][0] for i in sampling_inxs]).to(\"cuda\")\n",
    "        for model_ensemble in ms:\n",
    "            ens_signature = []\n",
    "            for model_out in model_ensemble.to(\"cuda\")(batch).argmax(dim=-1):\n",
    "                signature = tuple(model_out.tolist())\n",
    "                ens_signature.append(signature)\n",
    "            signature_dists.append(Counter(ens_signature))\n",
    "\n",
    "labeled_signdists = {chr(ord(\"A\")+i): dict(sd) for i, sd in enumerate(signature_dists)}\n",
    "plot_order = list(labeled_signdists.keys())\n",
    "n_ensembled = ms[0].n_ensembled\n",
    "point_pairs = {}\n",
    "for inx_a, labela in enumerate(plot_order):\n",
    "    sda = labeled_signdists[labela]\n",
    "    for labelb in plot_order[inx_a+1:]:\n",
    "        sdb = labeled_signdists[labelb]\n",
    "        pair_points = []\n",
    "        for k, v in sda.items():\n",
    "            pair_points.append((v / n_ensembled, sdb.get(k, 0) / n_ensembled))\n",
    "        point_pairs[f\"{labela}*{labelb}\"] = pair_points\n",
    "\n",
    "fig = plt.gcf()\n",
    "ax = plt.gca()\n",
    "\n",
    "for label, pts in point_pairs.items():\n",
    "    ax.scatter(*zip(*pts), label=label)\n",
    "ax.plot([0, 1], [0, 1])\n",
    "fig.tight_layout()\n",
    "ax.set_xlim(0, 1)\n",
    "ax.set_ylim(0, 1)\n",
    "ax.set_title(f\"Inductive bias - {n_samples=}\")\n",
    "plt.savefig(\"output.png\")\n",
    "plt.legend()\n",
    "plt.show()\n",
    "print(\"Done plotting\")"
   ]
  },
  {
   "cell_type": "code",
   "execution_count": null,
   "metadata": {},
   "outputs": [],
   "source": []
  }
 ],
 "metadata": {
  "kernelspec": {
   "display_name": "Python 3 (ipykernel)",
   "language": "python",
   "name": "python3"
  },
  "language_info": {
   "codemirror_mode": {
    "name": "ipython",
    "version": 3
   },
   "file_extension": ".py",
   "mimetype": "text/x-python",
   "name": "python",
   "nbconvert_exporter": "python",
   "pygments_lexer": "ipython3",
   "version": "3.10.10"
  }
 },
 "nbformat": 4,
 "nbformat_minor": 1
}
