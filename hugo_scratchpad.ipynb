{
 "cells": [
  {
   "cell_type": "code",
   "execution_count": 28,
   "metadata": {
    "collapsed": true
   },
   "outputs": [],
   "source": [
    "import torch\n",
    "import numpy as np\n",
    "from importlib import reload"
   ]
  },
  {
   "cell_type": "code",
   "execution_count": 37,
   "outputs": [
    {
     "name": "stderr",
     "output_type": "stream",
     "text": [
      "/home/hugo_dev/.local/share/virtualenvs/inductive-bias-ruler-wJh1zHAp/lib/python3.10/site-packages/torch/nn/modules/lazy.py:180: UserWarning: Lazy modules are a new feature under heavy development so changes to the API or functionality can happen at any moment.\n",
      "  warnings.warn('Lazy modules are a new feature under heavy development '\n"
     ]
    },
    {
     "ename": "ModuleNotFoundError",
     "evalue": "DistributionNotFound: The 'neptune-client' distribution was not found and is required by the application. HINT: Try running `pip install -U 'neptune-client'`",
     "output_type": "error",
     "traceback": [
      "\u001B[0;31m---------------------------------------------------------------------------\u001B[0m",
      "\u001B[0;31mModuleNotFoundError\u001B[0m                       Traceback (most recent call last)",
      "Cell \u001B[0;32mIn[37], line 35\u001B[0m\n\u001B[1;32m     29\u001B[0m train_config \u001B[38;5;241m=\u001B[39m \u001B[38;5;28mdict\u001B[39m(\n\u001B[1;32m     30\u001B[0m \n\u001B[1;32m     31\u001B[0m )\n\u001B[1;32m     33\u001B[0m model \u001B[38;5;241m=\u001B[39m models\u001B[38;5;241m.\u001B[39mBaseModule(model_config)\n\u001B[0;32m---> 35\u001B[0m \u001B[43mtrainer\u001B[49m\u001B[38;5;241;43m.\u001B[39;49m\u001B[43mtrain_model\u001B[49m\u001B[43m(\u001B[49m\u001B[43mmodel\u001B[49m\u001B[43m,\u001B[49m\u001B[43m \u001B[49m\u001B[43mtrainer_kwargs\u001B[49m\u001B[38;5;241;43m=\u001B[39;49m\u001B[43mtrain_config\u001B[49m\u001B[43m)\u001B[49m\n",
      "File \u001B[0;32m~/progs/inductive-bias-ruler/src/trainer.py:38\u001B[0m, in \u001B[0;36mtrain_model\u001B[0;34m(model, logger_kwargs, trainer_kwargs)\u001B[0m\n\u001B[1;32m     34\u001B[0m warnings\u001B[38;5;241m.\u001B[39mfilterwarnings(\u001B[38;5;124m\"\u001B[39m\u001B[38;5;124mignore\u001B[39m\u001B[38;5;124m\"\u001B[39m, \u001B[38;5;124m\"\u001B[39m\u001B[38;5;124m.*does not have many workers.*\u001B[39m\u001B[38;5;124m\"\u001B[39m)\n\u001B[1;32m     36\u001B[0m data_module \u001B[38;5;241m=\u001B[39m datasets\u001B[38;5;241m.\u001B[39mget_data_module(model\u001B[38;5;241m.\u001B[39mdataset_name, dl_kwargs\u001B[38;5;241m=\u001B[39mmodel\u001B[38;5;241m.\u001B[39mmodel_config[\u001B[38;5;124m\"\u001B[39m\u001B[38;5;124mdl_kwargs\u001B[39m\u001B[38;5;124m\"\u001B[39m])\n\u001B[0;32m---> 38\u001B[0m \u001B[38;5;28;01mwith\u001B[39;00m \u001B[43mlogging\u001B[49m\u001B[38;5;241;43m.\u001B[39;49m\u001B[43mNeptuneLogging\u001B[49m\u001B[43m(\u001B[49m\n\u001B[1;32m     39\u001B[0m \u001B[43m        \u001B[49m\u001B[43mtags\u001B[49m\u001B[38;5;241;43m=\u001B[39;49m\u001B[43m[\u001B[49m\u001B[38;5;124;43m\"\u001B[39;49m\u001B[38;5;124;43mtraining\u001B[39;49m\u001B[38;5;124;43m\"\u001B[39;49m\u001B[43m,\u001B[49m\u001B[43m \u001B[49m\u001B[43mmodel\u001B[49m\u001B[38;5;241;43m.\u001B[39;49m\u001B[43mmodel_architecture\u001B[49m\u001B[43m]\u001B[49m\u001B[43m,\u001B[49m\n\u001B[1;32m     40\u001B[0m \u001B[43m        \u001B[49m\u001B[38;5;241;43m*\u001B[39;49m\u001B[38;5;241;43m*\u001B[39;49m\u001B[43m(\u001B[49m\u001B[43m{\u001B[49m\u001B[43m}\u001B[49m\u001B[43m \u001B[49m\u001B[38;5;28;43;01mif\u001B[39;49;00m\u001B[43m \u001B[49m\u001B[43mlogger_kwargs\u001B[49m\u001B[43m \u001B[49m\u001B[38;5;129;43;01mis\u001B[39;49;00m\u001B[43m \u001B[49m\u001B[38;5;28;43;01mNone\u001B[39;49;00m\u001B[43m \u001B[49m\u001B[38;5;28;43;01melse\u001B[39;49;00m\u001B[43m \u001B[49m\u001B[43mlogger_kwargs\u001B[49m\u001B[43m)\u001B[49m\u001B[43m)\u001B[49m \u001B[38;5;28;01mas\u001B[39;00m neptune_logger:\n\u001B[1;32m     41\u001B[0m     neptune_logger\u001B[38;5;241m.\u001B[39mlocal_upload_json(model\u001B[38;5;241m.\u001B[39mmodel_config, \u001B[38;5;124m\"\u001B[39m\u001B[38;5;124mmodel_config\u001B[39m\u001B[38;5;124m\"\u001B[39m)\n\u001B[1;32m     42\u001B[0m     neptune_logger\u001B[38;5;241m.\u001B[39mlog_hyperparams(model\u001B[38;5;241m.\u001B[39mmodel_config)\n",
      "File \u001B[0;32m~/progs/inductive-bias-ruler/src/logging.py:40\u001B[0m, in \u001B[0;36mNeptuneLogging.__init__\u001B[0;34m(self, **kwargs)\u001B[0m\n\u001B[1;32m     38\u001B[0m     \u001B[38;5;28msuper\u001B[39m()\u001B[38;5;241m.\u001B[39m\u001B[38;5;21m__init__\u001B[39m(run\u001B[38;5;241m=\u001B[39minit_run(\u001B[38;5;241m*\u001B[39m\u001B[38;5;241m*\u001B[39mkwargs))\n\u001B[1;32m     39\u001B[0m \u001B[38;5;28;01melse\u001B[39;00m:\n\u001B[0;32m---> 40\u001B[0m     \u001B[38;5;28;43msuper\u001B[39;49m\u001B[43m(\u001B[49m\u001B[43m)\u001B[49m\u001B[38;5;241;43m.\u001B[39;49m\u001B[38;5;21;43m__init__\u001B[39;49m\u001B[43m(\u001B[49m\u001B[38;5;241;43m*\u001B[39;49m\u001B[38;5;241;43m*\u001B[39;49m\u001B[43mkwargs\u001B[49m\u001B[43m)\u001B[49m\n\u001B[1;32m     42\u001B[0m \u001B[38;5;28mself\u001B[39m\u001B[38;5;241m.\u001B[39mrun_id \u001B[38;5;241m=\u001B[39m \u001B[38;5;28mstr\u001B[39m(\u001B[38;5;28mself\u001B[39m\u001B[38;5;241m.\u001B[39mexperiment[\u001B[38;5;124m\"\u001B[39m\u001B[38;5;124msys/id\u001B[39m\u001B[38;5;124m\"\u001B[39m]\u001B[38;5;241m.\u001B[39mfetch())\n",
      "File \u001B[0;32m~/.local/share/virtualenvs/inductive-bias-ruler-wJh1zHAp/lib/python3.10/site-packages/pytorch_lightning/loggers/neptune.py:232\u001B[0m, in \u001B[0;36mNeptuneLogger.__init__\u001B[0;34m(self, api_key, project, name, run, log_model_checkpoints, prefix, **neptune_run_kwargs)\u001B[0m\n\u001B[1;32m    220\u001B[0m \u001B[38;5;28;01mdef\u001B[39;00m \u001B[38;5;21m__init__\u001B[39m(\n\u001B[1;32m    221\u001B[0m     \u001B[38;5;28mself\u001B[39m,\n\u001B[1;32m    222\u001B[0m     \u001B[38;5;241m*\u001B[39m,  \u001B[38;5;66;03m# force users to call `NeptuneLogger` initializer with `kwargs`\u001B[39;00m\n\u001B[0;32m   (...)\u001B[0m\n\u001B[1;32m    229\u001B[0m     \u001B[38;5;241m*\u001B[39m\u001B[38;5;241m*\u001B[39mneptune_run_kwargs: Any,\n\u001B[1;32m    230\u001B[0m ):\n\u001B[1;32m    231\u001B[0m     \u001B[38;5;28;01mif\u001B[39;00m \u001B[38;5;129;01mnot\u001B[39;00m _NEPTUNE_AVAILABLE:\n\u001B[0;32m--> 232\u001B[0m         \u001B[38;5;28;01mraise\u001B[39;00m \u001B[38;5;167;01mModuleNotFoundError\u001B[39;00m(\u001B[38;5;28mstr\u001B[39m(_NEPTUNE_AVAILABLE))\n\u001B[1;32m    233\u001B[0m     \u001B[38;5;66;03m# verify if user passed proper init arguments\u001B[39;00m\n\u001B[1;32m    234\u001B[0m     \u001B[38;5;28mself\u001B[39m\u001B[38;5;241m.\u001B[39m_verify_input_arguments(api_key, project, name, run, neptune_run_kwargs)\n",
      "\u001B[0;31mModuleNotFoundError\u001B[0m: DistributionNotFound: The 'neptune-client' distribution was not found and is required by the application. HINT: Try running `pip install -U 'neptune-client'`"
     ]
    }
   ],
   "source": [
    "import src\n",
    "reload(src)\n",
    "from src import models, datasets, trainer\n",
    "\n",
    "model_config = dict(\n",
    "    dataset_name=\"MNIST\",\n",
    "    number_of_classes=10,\n",
    "    conv_layers=[\n",
    "        dict(out_channels=8, kernel_size=5, stride=1)\n",
    "    ],\n",
    "    linear_layers=[\n",
    "        dict(out_features=256),\n",
    "        dict(out_features=64),\n",
    "        dict(out_features=\"num_classes\")\n",
    "    ],\n",
    "    activation_fct=[\n",
    "        dict(name=\"ReLU\", kwargs={})\n",
    "    ],\n",
    "    post_activation_fct=[\n",
    "        dict(name=\"MaxPool2d\", kwargs=dict(kernel_size=2))\n",
    "    ],\n",
    "    dl_kwargs=dict(batch_size=16),\n",
    "    loss_function=\"CrossEntropyLoss\",\n",
    "    epochs=10,\n",
    "    learning_rate=3e-4,\n",
    "    optimizer=(\"\", dict())\n",
    ")\n",
    "\n",
    "train_config = dict(\n",
    "\n",
    ")\n",
    "\n",
    "model = models.BaseModule(model_config)\n",
    "\n",
    "trainer.train_model(model, trainer_kwargs=train_config)"
   ],
   "metadata": {
    "collapsed": false
   }
  }
 ],
 "metadata": {
  "kernelspec": {
   "display_name": "Python 3",
   "language": "python",
   "name": "python3"
  },
  "language_info": {
   "codemirror_mode": {
    "name": "ipython",
    "version": 2
   },
   "file_extension": ".py",
   "mimetype": "text/x-python",
   "name": "python",
   "nbconvert_exporter": "python",
   "pygments_lexer": "ipython2",
   "version": "2.7.6"
  }
 },
 "nbformat": 4,
 "nbformat_minor": 0
}
