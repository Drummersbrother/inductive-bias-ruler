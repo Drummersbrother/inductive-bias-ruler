{
 "cells": [
  {
   "cell_type": "code",
   "execution_count": 1,
   "metadata": {
    "collapsed": true
   },
   "outputs": [],
   "source": [
    "import torch\n",
    "import numpy as np\n",
    "from importlib import reload"
   ]
  },
  {
   "cell_type": "code",
   "execution_count": null,
   "outputs": [],
   "source": [
    "import src\n",
    "from src import models, datasets, trainer\n",
    "\n",
    "model_config = dict(\n",
    "    dataset_name=\"MNIST\",\n",
    "    number_of_classes=10,\n",
    "    conv_layers=[\n",
    "        dict(out_channels=8, kernel_size=5, stride=1)\n",
    "    ],\n",
    "    linear_layers=[\n",
    "        dict(out_features=256),\n",
    "        dict(out_features=64),\n",
    "        dict(out_features=\"num_classes\")\n",
    "    ],\n",
    "    activation_fct=[\n",
    "        dict(name=\"ReLU\", kwargs={})\n",
    "    ],\n",
    "    post_activation_fct=[\n",
    "        dict(name=\"MaxPool2d\", kwargs=dict(kernel_size=2))\n",
    "    ],\n",
    "    dl_kwargs=dict(batch_size=16),\n",
    "    loss_function=\"CrossEntropyLoss\",\n",
    "    epochs=10,\n",
    "    learning_rate=3e-4,\n",
    "    optimizer=(\"\", dict())\n",
    ")\n",
    "\n",
    "train_config = dict(\n",
    "\n",
    ")\n",
    "\n",
    "model = models.BaseModule(model_config)\n",
    "\n",
    "trainer.train_model(model, trainer_kwargs=train_config)"
   ],
   "metadata": {
    "collapsed": false
   }
  }
 ],
 "metadata": {
  "kernelspec": {
   "display_name": "Python 3",
   "language": "python",
   "name": "python3"
  },
  "language_info": {
   "codemirror_mode": {
    "name": "ipython",
    "version": 2
   },
   "file_extension": ".py",
   "mimetype": "text/x-python",
   "name": "python",
   "nbconvert_exporter": "python",
   "pygments_lexer": "ipython2",
   "version": "2.7.6"
  }
 },
 "nbformat": 4,
 "nbformat_minor": 0
}
